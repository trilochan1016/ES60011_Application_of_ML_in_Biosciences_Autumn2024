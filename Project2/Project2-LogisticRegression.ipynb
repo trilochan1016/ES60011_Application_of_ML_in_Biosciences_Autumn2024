{
 "cells": [
  {
   "cell_type": "code",
   "execution_count": 28,
   "metadata": {
    "executionInfo": {
     "elapsed": 4,
     "status": "ok",
     "timestamp": 1725633653213,
     "user": {
      "displayName": "trilochan nerella",
      "userId": "10928974189937192135"
     },
     "user_tz": -330
    },
    "id": "w3aLbptUixMk"
   },
   "outputs": [],
   "source": [
    "# Logistic Regression\n",
    "# Importing Libraries"
   ]
  },
  {
   "cell_type": "code",
   "execution_count": 29,
   "metadata": {
    "executionInfo": {
     "elapsed": 4,
     "status": "ok",
     "timestamp": 1725633653213,
     "user": {
      "displayName": "trilochan nerella",
      "userId": "10928974189937192135"
     },
     "user_tz": -330
    },
    "id": "dOyKN6uJjng8"
   },
   "outputs": [],
   "source": [
    "import numpy as np\n",
    "import pandas as pd\n",
    "import matplotlib.pyplot as plt\n",
    "from scipy.special import logsumexp\n",
    "from sklearn.metrics import precision_score, recall_score, f1_score, confusion_matrix\n",
    "import copy\n",
    "import math"
   ]
  },
  {
   "cell_type": "code",
   "execution_count": 30,
   "metadata": {
    "executionInfo": {
     "elapsed": 4,
     "status": "ok",
     "timestamp": 1725633653213,
     "user": {
      "displayName": "trilochan nerella",
      "userId": "10928974189937192135"
     },
     "user_tz": -330
    },
    "id": "FeSOs4yMksOk"
   },
   "outputs": [],
   "source": [
    "# Loading the data"
   ]
  },
  {
   "cell_type": "code",
   "execution_count": 31,
   "metadata": {
    "colab": {
     "base_uri": "https://localhost:8080/"
    },
    "executionInfo": {
     "elapsed": 7,
     "status": "ok",
     "timestamp": 1725633656890,
     "user": {
      "displayName": "trilochan nerella",
      "userId": "10928974189937192135"
     },
     "user_tz": -330
    },
    "id": "i36o1r21kyfT",
    "outputId": "f247d52c-afd2-48e2-a751-be379432aaae"
   },
   "outputs": [
    {
     "name": "stdout",
     "output_type": "stream",
     "text": [
      "Shape of X:  (3658, 15) Shape of y:  (3658,)\n"
     ]
    }
   ],
   "source": [
    "def load_data(filepath):\n",
    "    df = pd.read_csv(filepath)\n",
    "    df = df.dropna()\n",
    "    X = df.iloc[:, :-1].values\n",
    "    y = df.iloc[:, -1].values\n",
    "    return X, y\n",
    "\n",
    "filepath = './framingham.csv'\n",
    "X, y = load_data(filepath)\n",
    "print(\"Shape of X: \",X.shape, \"Shape of y: \",y.shape)"
   ]
  },
  {
   "cell_type": "code",
   "execution_count": 32,
   "metadata": {
    "executionInfo": {
     "elapsed": 7,
     "status": "ok",
     "timestamp": 1725633656891,
     "user": {
      "displayName": "trilochan nerella",
      "userId": "10928974189937192135"
     },
     "user_tz": -330
    },
    "id": "inHgSLqdpy14"
   },
   "outputs": [],
   "source": [
    "#We need to pre-process the data. We are using min-max scaler to scale the input data (X).\n",
    "#After that, we split the data (X and y) into a training dataset (X_train and y_train) and test dataset (X_test and y_test)."
   ]
  },
  {
   "cell_type": "code",
   "execution_count": 33,
   "metadata": {
    "colab": {
     "base_uri": "https://localhost:8080/"
    },
    "executionInfo": {
     "elapsed": 7,
     "status": "ok",
     "timestamp": 1725633656891,
     "user": {
      "displayName": "trilochan nerella",
      "userId": "10928974189937192135"
     },
     "user_tz": -330
    },
    "id": "IAaasqlBqO0l",
    "outputId": "573e1952-94e7-490a-9cde-5be426831b4c"
   },
   "outputs": [
    {
     "name": "stdout",
     "output_type": "stream",
     "text": [
      "Shape of X_train:  (2743, 15) Shape of y_train:  (2743,)\n",
      "Shape of X_test:  (915, 15) Shape of y_test:  (915,)\n"
     ]
    }
   ],
   "source": [
    "## Data scaling and train-test split\n",
    "\n",
    "def train_test_split(X, y, test_size=0.25, random_state=None):\n",
    "    if random_state is not None:\n",
    "        np.random.seed(random_state)\n",
    "    indices = np.arange(X.shape[0])\n",
    "    np.random.shuffle(indices)\n",
    "\n",
    "    split_index = int(X.shape[0] * (1 - test_size))\n",
    "\n",
    "    train_indices = indices[:split_index]\n",
    "    test_indices = indices[split_index:]\n",
    "\n",
    "    X_train = X[train_indices]\n",
    "    X_test = X[test_indices]\n",
    "    y_train = y[train_indices]\n",
    "    y_test = y[test_indices]\n",
    "\n",
    "    return X_train, X_test, y_train, y_test\n",
    "\n",
    "def min_max_scaler(X, feature_range=(0, 1)):\n",
    "    X_min = np.min(X, axis=0)\n",
    "    X_max = np.max(X, axis=0)\n",
    "\n",
    "    X_scaled = (X-X_min)/(X_max-X_min)\n",
    "\n",
    "    return X_scaled\n",
    "\n",
    "\n",
    "X = min_max_scaler(X)\n",
    "X_train, X_test, y_train, y_test = train_test_split(X, y, test_size=0.25, random_state=42)\n",
    "print(\"Shape of X_train: \",X_train.shape, \"Shape of y_train: \",y_train.shape)\n",
    "print(\"Shape of X_test: \",X_test.shape, \"Shape of y_test: \",y_test.shape)"
   ]
  },
  {
   "cell_type": "code",
   "execution_count": 34,
   "metadata": {
    "executionInfo": {
     "elapsed": 5,
     "status": "ok",
     "timestamp": 1725633656891,
     "user": {
      "displayName": "trilochan nerella",
      "userId": "10928974189937192135"
     },
     "user_tz": -330
    },
    "id": "4iXK9OyIq6H9"
   },
   "outputs": [],
   "source": [
    "#Creating the Sigmoid Function"
   ]
  },
  {
   "cell_type": "code",
   "execution_count": 35,
   "metadata": {
    "executionInfo": {
     "elapsed": 4,
     "status": "ok",
     "timestamp": 1725633656891,
     "user": {
      "displayName": "trilochan nerella",
      "userId": "10928974189937192135"
     },
     "user_tz": -330
    },
    "id": "m6F7cOuqrMOu"
   },
   "outputs": [],
   "source": [
    "def sigmoid(z):\n",
    "    g = None\n",
    "    z = z.astype(float)\n",
    "    g = 1 / (1 + np.exp(-z))\n",
    "    return g"
   ]
  },
  {
   "cell_type": "code",
   "execution_count": 36,
   "metadata": {
    "executionInfo": {
     "elapsed": 4,
     "status": "ok",
     "timestamp": 1725633656891,
     "user": {
      "displayName": "trilochan nerella",
      "userId": "10928974189937192135"
     },
     "user_tz": -330
    },
    "id": "Fa8zoXtCrZiz"
   },
   "outputs": [],
   "source": [
    "#Computing the loss Function"
   ]
  },
  {
   "cell_type": "code",
   "execution_count": 37,
   "metadata": {
    "executionInfo": {
     "elapsed": 4,
     "status": "ok",
     "timestamp": 1725633656891,
     "user": {
      "displayName": "trilochan nerella",
      "userId": "10928974189937192135"
     },
     "user_tz": -330
    },
    "id": "iydjS6xIrfTt"
   },
   "outputs": [],
   "source": [
    "def loss_function(X, y, w, b):\n",
    "    m, n = X.shape\n",
    "    total_cost = 0\n",
    "    y_matrix = y.reshape((m,1))\n",
    "    z = np.dot(X, w.T) + b\n",
    "    f_x = sigmoid(z)\n",
    "    loss = -(np.dot(y_matrix.T, np.log(f_x)) + np.dot((1 - y_matrix).T, np.log(1 - f_x)))\n",
    "    total_cost_matrix = loss / m\n",
    "    total_cost = total_cost_matrix.item()\n",
    "    return total_cost"
   ]
  },
  {
   "cell_type": "code",
   "execution_count": 38,
   "metadata": {
    "executionInfo": {
     "elapsed": 4,
     "status": "ok",
     "timestamp": 1725633656891,
     "user": {
      "displayName": "trilochan nerella",
      "userId": "10928974189937192135"
     },
     "user_tz": -330
    },
    "id": "CugRju56ruV5"
   },
   "outputs": [],
   "source": [
    "# Computing the Gradient of the Loss"
   ]
  },
  {
   "cell_type": "code",
   "execution_count": 39,
   "metadata": {
    "executionInfo": {
     "elapsed": 4,
     "status": "ok",
     "timestamp": 1725633656891,
     "user": {
      "displayName": "trilochan nerella",
      "userId": "10928974189937192135"
     },
     "user_tz": -330
    },
    "id": "slzxrB8mr1Oe"
   },
   "outputs": [],
   "source": [
    "def compute_gradient_logistic_regression(X, y, w, b):\n",
    "    m, n = X.shape\n",
    "    dj_dw = np.zeros(w.shape)\n",
    "    dj_db = 0\n",
    "    y_matrix = y.reshape((m,1))\n",
    "    z = np.dot(X, w.T) + b\n",
    "    f_x = sigmoid(z)\n",
    "    error = f_x - y_matrix\n",
    "    dj_db = np.sum(error)\n",
    "    dj_dw = np.dot(error.T, X)\n",
    "    dj_db /= m\n",
    "    dj_dw /= m\n",
    "    return dj_db, dj_dw"
   ]
  },
  {
   "cell_type": "code",
   "execution_count": 40,
   "metadata": {
    "executionInfo": {
     "elapsed": 4,
     "status": "ok",
     "timestamp": 1725633656891,
     "user": {
      "displayName": "trilochan nerella",
      "userId": "10928974189937192135"
     },
     "user_tz": -330
    },
    "id": "SN-DLANrsD4V"
   },
   "outputs": [],
   "source": [
    "# Training the model using Batch Gradient Descent"
   ]
  },
  {
   "cell_type": "code",
   "execution_count": 41,
   "metadata": {
    "executionInfo": {
     "elapsed": 4,
     "status": "ok",
     "timestamp": 1725633656891,
     "user": {
      "displayName": "trilochan nerella",
      "userId": "10928974189937192135"
     },
     "user_tz": -330
    },
    "id": "kqGNWmfTsGnn"
   },
   "outputs": [],
   "source": [
    "def batch_gradient_descent_logistic_regression(X, y, w_in, b_in, alpha, num_iters):\n",
    "    m = len(X)\n",
    "    loss_hist = []\n",
    "    for i in range(num_iters):\n",
    "        dj_db, dj_dw = compute_gradient_logistic_regression(X, y, w_in, b_in)\n",
    "        w_in = w_in - alpha * dj_dw\n",
    "        b_in = b_in - alpha * dj_db\n",
    "\n",
    "        loss = loss_function(X, y, w_in, b_in)\n",
    "        loss_hist.append(loss)\n",
    "        if i % 100000 == 0:\n",
    "            print(f\"Loss after iteration {i} : {loss}\")\n",
    "    return w_in, b_in, loss_hist"
   ]
  },
  {
   "cell_type": "code",
   "execution_count": 42,
   "metadata": {
    "executionInfo": {
     "elapsed": 4,
     "status": "ok",
     "timestamp": 1725633656891,
     "user": {
      "displayName": "trilochan nerella",
      "userId": "10928974189937192135"
     },
     "user_tz": -330
    },
    "id": "tsKBYvjhsUqr"
   },
   "outputs": [],
   "source": [
    "# Initialising Parameters"
   ]
  },
  {
   "cell_type": "code",
   "execution_count": 43,
   "metadata": {
    "executionInfo": {
     "elapsed": 4,
     "status": "ok",
     "timestamp": 1725633656891,
     "user": {
      "displayName": "trilochan nerella",
      "userId": "10928974189937192135"
     },
     "user_tz": -330
    },
    "id": "c_iU3QHwuIST"
   },
   "outputs": [],
   "source": [
    "random_seed = 48\n",
    "np.random.seed(random_seed)\n",
    "\n",
    "def initialize_parameters():\n",
    "    initial_w = None\n",
    "    initial_b = None\n",
    "    alpha = None\n",
    "\n",
    "    initial_w = np.random.randn(1, X_train.shape[1])\n",
    "    initial_b = np.random.randn()\n",
    "    alpha = np.random.uniform(0.01, 0.09)\n",
    "\n",
    "    return initial_w,initial_b,alpha"
   ]
  },
  {
   "cell_type": "code",
   "execution_count": 44,
   "metadata": {
    "executionInfo": {
     "elapsed": 3,
     "status": "ok",
     "timestamp": 1725633656891,
     "user": {
      "displayName": "trilochan nerella",
      "userId": "10928974189937192135"
     },
     "user_tz": -330
    },
    "id": "t2ujQ4FBuho-"
   },
   "outputs": [],
   "source": [
    "# Finally Running"
   ]
  },
  {
   "cell_type": "code",
   "execution_count": 45,
   "metadata": {
    "colab": {
     "base_uri": "https://localhost:8080/"
    },
    "executionInfo": {
     "elapsed": 279690,
     "status": "ok",
     "timestamp": 1725633651800,
     "user": {
      "displayName": "trilochan nerella",
      "userId": "10928974189937192135"
     },
     "user_tz": -330
    },
    "id": "P2dmFRK0ukGL",
    "outputId": "2fe45130-70b6-4eb1-e76e-620d624dc6d9"
   },
   "outputs": [
    {
     "name": "stdout",
     "output_type": "stream",
     "text": [
      "Loss after iteration 0 : 0.47639601220542266\n",
      "Loss after iteration 100000 : 0.3790796536120677\n",
      "Loss after iteration 200000 : 0.3783148432442181\n",
      "Loss after iteration 300000 : 0.3781993896734338\n",
      "Loss after iteration 400000 : 0.378176577107422\n",
      "optimized parameter values w: [[ 4.81719129e-01  2.66298209e+00 -9.58292695e-02  4.58436468e-02\n",
      "   1.24325567e+00 -1.73302420e-03  7.32357860e-01  3.49049070e-01\n",
      "   2.55052510e-02  7.08680283e-01  2.35428078e+00 -5.49306343e-02\n",
      "   5.14714269e-01 -7.18818709e-01  3.21132575e+00]]\n",
      "optimized parameter value b: -4.675473555472484\n"
     ]
    }
   ],
   "source": [
    "initial_w, initial_b, alpha = initialize_parameters()\n",
    "num_iterations = 500000\n",
    "\n",
    "w, b, loss_hist = batch_gradient_descent_logistic_regression(X_train ,y_train, initial_w, initial_b, alpha, num_iterations)\n",
    "print(\"optimized parameter values w:\", w)\n",
    "print(\"optimized parameter value b:\", b)"
   ]
  },
  {
   "cell_type": "code",
   "execution_count": 46,
   "metadata": {
    "executionInfo": {
     "elapsed": 12,
     "status": "ok",
     "timestamp": 1725633651800,
     "user": {
      "displayName": "trilochan nerella",
      "userId": "10928974189937192135"
     },
     "user_tz": -330
    },
    "id": "oUdgBL7zuuH9"
   },
   "outputs": [],
   "source": [
    "# Predicting and Final Train and Test Accuracy"
   ]
  },
  {
   "cell_type": "code",
   "execution_count": 47,
   "metadata": {
    "colab": {
     "base_uri": "https://localhost:8080/"
    },
    "executionInfo": {
     "elapsed": 11,
     "status": "ok",
     "timestamp": 1725633651800,
     "user": {
      "displayName": "trilochan nerella",
      "userId": "10928974189937192135"
     },
     "user_tz": -330
    },
    "id": "3JvWHp9suvze",
    "outputId": "52bf6122-5b98-4e68-bc31-6b8b5c332a29"
   },
   "outputs": [
    {
     "name": "stdout",
     "output_type": "stream",
     "text": [
      "Train Accuracy: 83.293091\n",
      "Test Accuracy: 83.732330\n"
     ]
    }
   ],
   "source": [
    "def predict(X, w, b):\n",
    "      m, n = X.shape\n",
    "      p = np.zeros(m)\n",
    "      z = np.dot(X, w.T) + b\n",
    "      A = 1 / (1 + np.exp(-z))\n",
    "      p = np.where(A >= 0.5, 1, 0)\n",
    "      return p\n",
    "\n",
    "p_train = predict(X_train, w,b)\n",
    "print('Train Accuracy: %f'%(np.mean(p_train == y_train) * 100))\n",
    "p_test = predict(X_test, w,b)\n",
    "print('Test Accuracy: %f'%(np.mean(p_test == y_test) * 100))"
   ]
  },
  {
   "cell_type": "code",
   "execution_count": 48,
   "metadata": {},
   "outputs": [],
   "source": [
    "# Calculating precision,sensitivity,specificity and f1-score"
   ]
  },
  {
   "cell_type": "code",
   "execution_count": 49,
   "metadata": {},
   "outputs": [
    {
     "name": "stdout",
     "output_type": "stream",
     "text": [
      "Precision_train: 0.7254901960784313\n",
      "Recall_train (Sensitivity): 0.08747044917257683\n",
      "F1-Score_train: 0.15611814345991562\n",
      "Specificity_train: 0.9939655172413793\n",
      "Precision_test: 0.7142857142857143\n",
      "Recall_test (Sensitivity): 0.11194029850746269\n",
      "F1-Score_test: 0.1935483870967742\n",
      "Specificity_test: 0.9923175416133163\n"
     ]
    }
   ],
   "source": [
    "precision_train= precision_score(y_train,p_train)\n",
    "recall_train = recall_score(y_train,p_train)\n",
    "f1_train = f1_score(y_train,p_train)\n",
    "\n",
    "precision_test = precision_score(y_test,p_test)\n",
    "recall_test = recall_score(y_test,p_test)\n",
    "f1_test = f1_score(y_test,p_test)\n",
    "\n",
    "tn_train, fp_train, fn_train, tp_train = confusion_matrix(y_train,p_train).ravel()\n",
    "specificity_train = tn_train / (tn_train + fp_train)\n",
    "\n",
    "tn_test, fp_test, fn_test, tp_test = confusion_matrix(y_test,p_test).ravel()\n",
    "specificity_test = tn_test / (tn_test + fp_test)\n",
    "\n",
    "print(f'Precision_train: {precision_train}')\n",
    "print(f'Recall_train (Sensitivity): {recall_train}')\n",
    "print(f'F1-Score_train: {f1_train}')\n",
    "print(f'Specificity_train: {specificity_train}')\n",
    "\n",
    "print(f'Precision_test: {precision_test}')\n",
    "print(f'Recall_test (Sensitivity): {recall_test}')\n",
    "print(f'F1-Score_test: {f1_test}')\n",
    "print(f'Specificity_test: {specificity_test}')"
   ]
  },
  {
   "cell_type": "code",
   "execution_count": 50,
   "metadata": {
    "colab": {
     "base_uri": "https://localhost:8080/",
     "height": 450
    },
    "executionInfo": {
     "elapsed": 551,
     "status": "ok",
     "timestamp": 1725633652340,
     "user": {
      "displayName": "trilochan nerella",
      "userId": "10928974189937192135"
     },
     "user_tz": -330
    },
    "id": "b1N_RHMevD7-",
    "outputId": "e69d665c-995c-4e82-f10e-b8eef7cc4c60"
   },
   "outputs": [
    {
     "data": {
      "image/png": "[encoded data removed]",
      "text/plain": [
       "<Figure size 640x480 with 1 Axes>"
      ]
     },
     "metadata": {},
     "output_type": "display_data"
    }
   ],
   "source": [
    "# PLotting the loss values for every training iterations\n",
    "\n",
    "loss_plot = [loss_hist[i] for i in range(len(loss_hist))]\n",
    "plt.xlabel(\"Iterations\")\n",
    "plt.ylabel(\"Loss function\")\n",
    "plt.plot(loss_plot)\n",
    "plt.show()"
   ]
  }
 ],
 "metadata": {
  "colab": {
   "authorship_tag": "ABX9TyMUsn9OEz8BY3KBoz9nYqgB",
   "provenance": []
  },
  "kernelspec": {
   "display_name": "Python 3 (ipykernel)",
   "language": "python",
   "name": "python3"
  },
  "language_info": {
   "codemirror_mode": {
    "name": "ipython",
    "version": 3
   },
   "file_extension": ".py",
   "mimetype": "text/x-python",
   "name": "python",
   "nbconvert_exporter": "python",
   "pygments_lexer": "ipython3",
   "version": "3.10.12"
  }
 },
 "nbformat": 4,
 "nbformat_minor": 4
}
